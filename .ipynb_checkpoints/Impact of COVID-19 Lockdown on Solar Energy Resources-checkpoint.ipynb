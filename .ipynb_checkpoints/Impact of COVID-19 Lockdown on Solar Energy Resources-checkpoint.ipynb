{
 "cells": [
  {
   "cell_type": "markdown",
   "metadata": {},
   "source": [
    "# Impact of COVID-19 Lockdown on Spectral Direct Normal Irradiance for Solar Energy Applications over China\n",
    "\n",
    "## Summary\n",
    "We compare the spectral direct normal irradiance over china between March 2019 and March 2020. This is to investigate the effects of reduced emssion due to COVID-19 lockdown has on solar energy resources. Nitrogen dixoide (NO2) and aerosol optical depth measurements (AOD) from TROPOMI and MODIS respectively are compared. Along with atmospheric profiles from ECMWF CAMS, we simulate the spectral direct normal irradiance at ground level across China using libRadtran. We then feed the simulated spectra into SolCore to ultimately understand how changes in NO2 and AOD translate to changes in power output. \n",
    "\n",
    "Over Wuhan, China, which is where COVID-19 originated, we see a 12% increase in broadband DNI due to reduction in NO2 and AOD. As the reduction of these speices also changes the spectral shape of the DNI, simulation of a triple-junction cell in concentrator system shows that the power output actually increased by 24% as the efficiency of the cell has improved by 11% due to enhacned spectral matching. \n",
    "\n",
    "## Motivation\n",
    "\n",
    "We look at the impact of COVID-19 lockdown in China during the early months of 2020 on the impact of direct normal irradiance (DNI) for solar energy applications. In particular, we are interested in how the air pollution emission changes due to the lockdown changes the solar energy resources available to solar cells. Indeed, [reports](https://www.theguardian.com/environment/2020/mar/23/coronavirus-pandemic-leading-to-huge-drop-in-air-pollution) have already shown the marked decrease of nitrogen dioxide (NO2) emissions due to the lockdown over China, Italy and the UK. Here, we will attempt to propagate changes in NO2 concentrations and aerosol optical depths into actual impacts on the spectral DNI available at the surface for solar cells. \n",
    "\n",
    "We will also examine specfically the impact this has on the power output of a commercially avaialble triple junction (3J) ([InGaP/InGaAs/Ge](https://iopscience.iop.org/article/10.1143/JJAP.43.882)) solar cell in concentrated photovoltaic system (CPV). This cell is more spectrally sensitive than conventional single-junction cells. The power ouput of them not only depends on the broadband DNI, but also its spectral variation. The plot below shows the external quantum efficiency curves of the 3J cell that we will be considering, which may be interpreted as the spectral response curve for each of the subcells. An interesting property of such a 3J cell is that the total power output is limited by the layer that generates the least current. Also shown is the the total absorption spectrum of NO2 in the wavelength range $200-700nm$. The plot is adapted from figure 4 of [Schneider et al. 1987](https://www.sciencedirect.com/science/article/pii/1010603087850013). Notice how the NO2 absorption only covers the top InGaP cell for the triple junction cell. As such, variation in NO2 will only impact the current ouput from the top InGaP layer."
   ]
  },
  {
   "cell_type": "code",
   "execution_count": null,
   "metadata": {},
   "outputs": [],
   "source": [
    "import plotly.io as pio\n",
    "pio.renderers.default = \"notebook\"\n",
    "\n",
    "import pandas as pd\n",
    "import plotly.graph_objects as go\n",
    "import numpy as np\n",
    "from plotly.subplots import make_subplots\n",
    "\n",
    "# some plotting styles to be used throughout\n",
    "layoutStyle = {'paper_bgcolor': 'rgba(0,0,0,0)', 'plot_bgcolor': 'rgba(0,0,0,0)', 'yaxis_zeroline': False,\n",
    "               'xaxis': {'showgrid': True, 'gridcolor': '#E1E8ED', 'zeroline': False},\n",
    "               'yaxis': {'showgrid': True, 'gridcolor': '#E1E8ED', 'zeroline': False}}\n",
    "backgroundStyle = {\"paper_bgcolor\": \"rgba(0,0,0,0)\", \"plot_bgcolor\": \"rgba(0,0,0,0)\", \"yaxis_zeroline\": False}"
   ]
  },
  {
   "cell_type": "code",
   "execution_count": null,
   "metadata": {},
   "outputs": [],
   "source": [
    "fig = make_subplots(rows = 1, cols = 1)\n",
    "\n",
    "no2Abs = pd.read_csv('data/no2AbsorptionCrossSection.csv')\n",
    "eqe3J = pd.read_csv('data/3jCellEqe.csv')\n",
    "\n",
    "fig = make_subplots(specs = [[{\"secondary_y\": True}]])\n",
    "# no2 absorption\n",
    "fig.add_trace(go.Scatter(x = no2Abs['wavelength [nm]'][::12], y = no2Abs[' crossSection 10^-19 [cm2]'][::12], name = 'NO2', legendgroup = 'Gas', marker = {'color': '#DB3737'}), row = 1, col = 1, secondary_y = False)\n",
    "# triple junctions\n",
    "fig.add_trace(go.Scatter(x = eqe3J['wvls'][::3], y = eqe3J['ge_qe'][::3], name = 'Ge', marker = {'color': '#D9822B'}, legendgroup = 'Triple Junction'), row = 1, col = 1, secondary_y = True)\n",
    "fig.add_trace(go.Scatter(x = eqe3J['wvls'][::3], y = eqe3J['ingaas_qe'][::3], name = 'InGaAs', marker = {'color': '#137CBD'}, legendgroup = 'Triple Junction'), row = 1, col = 1, secondary_y = True)\n",
    "fig.add_trace(go.Scatter(x = eqe3J['wvls'][::3], y = eqe3J['ingap_qe'][::3], name = 'InGaP', marker = {'color': '#0F9960'}, legendgroup = 'Triple Junction'), row = 1, col = 1, secondary_y = True)\n",
    "\n",
    "fig.update_layout(showlegend = True, xaxis_title = \"Wavelength (nm)\", yaxis_title = r\"$\\text{Total Absorption Cross Section}\\text{ }(10^{-19} cm^2)$\", **layoutStyle)\n",
    "fig.update_yaxes(title_text = \"Spectral Response\", secondary_y = True)\n",
    "\n",
    "fig.show()"
   ]
  },
  {
   "cell_type": "markdown",
   "metadata": {},
   "source": [
    "# Changes in Atmospheric Species Concentration over China\n",
    "\n",
    "Examining the spectral response curves above and the [extinction spectrum of atmospheric species in the shortwave](https://www2.pvlighthouse.com.au/resources/courses/altermatt/The%20Solar%20Spectrum/Atmospheric%20absorption%20-%20an%20overview.aspx), we focus on solar energy relevant atmospheric species, namely **nitrogen dioxide**, **aerosols**, **precipitable water vapour** and **ozone**. The latter two should not be appreciable affected by the lockdown measures. Hence, we will focus on nitrogen dioxide and aerosols.\n",
    "\n",
    "The lockdown period coincided with the Chinese Lunar New Year holiday, which would have seen a reduction in economic activities anyways. When comparing between years, it is also important to note that the Chinese New Year drifts with respect to the Geogorian calendar. For example, 25 Jan (2020) and 5 Feb (2019). The holiday is typically one week from the New Year. Further, note that the lockdown period was staggered across China. See [wikipedia](https://en.wikipedia.org/wiki/2020_coronavirus_lockdown_in_Hubei#Lockdown_timeline) for a tabular breakdown.\n",
    "\n",
    "# Nitrogen Dioxide\n",
    "\n",
    "We show the columnar nitrogen dioxide from Tropomi (TROPOspheric Monitoring Instrument) onbaord Sentinel-5 Precursor. Monthly averages are taken from the 15th of a month to the 15th of the next month from December 2018 to April 2019 as a baseline, and from Decemeber 2019 to April 2020, which includes the lockdown period. These months were chosen intentionally to avoid the Chinese New Year (see the first point above). \n",
    "\n",
    "We remark that [NO2 exhibits a strong diurnal cycle](http://aaqr.org/files/article/1089/4_AAQR-10-07-OA-0055_128-139.pdf), so the choice of observation time matters. This has been imposed upon us, as Tropomi has an equatorial crossing at 1330 h Mean Local Solar time."
   ]
  },
  {
   "cell_type": "code",
   "execution_count": null,
   "metadata": {},
   "outputs": [],
   "source": [
    "%%capture\n",
    "\n",
    "import rasterio\n",
    "import mapPlottingHelper\n",
    "\n",
    "no2_dec_jan_2019 = rasterio.open('data/s5p_no2/no2_china_dec_jan_2019.tif')\n",
    "no2_dec_jan_2020 = rasterio.open('data/s5p_no2/no2_china_dec_jan_2020.tif')\n",
    "\n",
    "no2_jan_feb_2019 = rasterio.open('data/s5p_no2/no2_china_jan_feb_2019.tif')\n",
    "no2_jan_feb_2020 = rasterio.open('data/s5p_no2/no2_china_jan_feb_2020.tif')\n",
    "\n",
    "no2_feb_mar_2019 = rasterio.open('data/s5p_no2/no2_china_feb_mar_2019.tif')\n",
    "no2_feb_mar_2020 = rasterio.open('data/s5p_no2/no2_china_feb_mar_2020.tif')\n",
    "\n",
    "no2_mar_apr_2019 = rasterio.open('data/s5p_no2/no2_china_mar_apr_2019.tif')\n",
    "no2_mar_apr_2020 = rasterio.open('data/s5p_no2/no2_china_mar_apr_2020.tif')\n",
    "\n",
    "aod550_feb_mar_2019 = rasterio.open('data/s5p_aerosols/aod_china_feb_mar_2019_550.tif')\n",
    "aod550_feb_mar_2020 = rasterio.open('data/s5p_aerosols/aod_china_feb_mar_2020_550.tif')\n",
    "\n",
    "aod470_feb_mar_2019 = rasterio.open('data/s5p_aerosols/aod_china_feb_mar_2019_047.tif')\n",
    "aod470_feb_mar_2020 = rasterio.open('data/s5p_aerosols/aod_china_feb_mar_2020_047.tif')\n",
    "\n",
    "majorChineseCities = pd.read_csv('data/majorChineseCities.csv')\n",
    "coastLineTraces = mapPlottingHelper.get_coastline_traces(color = 'white')\n",
    "coastLineTraces_black = mapPlottingHelper.get_coastline_traces()\n",
    "majorChineseCityScatter = go.Scatter(mode = 'markers+text', opacity = 0.75, textposition = \"top left\", textfont_color = 'white', marker_color = 'white', x = majorChineseCities['lon'], y = majorChineseCities['lat'], text = majorChineseCities['city'], name = 'City')\n",
    "majorChineseCityScatter_black = go.Scatter(mode = 'markers+text', opacity = 0.75, textposition = \"top left\", textfont_color = 'black', marker_color = 'white', x = majorChineseCities['lon'], y = majorChineseCities['lat'], text = majorChineseCities['city'], name = 'City')\n",
    "\n",
    "longitudes = np.linspace(no2_feb_mar_2019.bounds.left,  no2_feb_mar_2019.bounds.right, no2_feb_mar_2019.width)\n",
    "latitudes = np.linspace(no2_feb_mar_2019.bounds.bottom,  no2_feb_mar_2019.bounds.top, no2_feb_mar_2019.height)"
   ]
  },
  {
   "cell_type": "code",
   "execution_count": null,
   "metadata": {},
   "outputs": [],
   "source": [
    "minLon, maxLon = no2_feb_mar_2019.bounds.left, no2_feb_mar_2019.bounds.right\n",
    "minLat, maxLat = no2_feb_mar_2019.bounds.bottom, no2_feb_mar_2019.bounds.top\n",
    "\n",
    "heatMapStyle = {'x': longitudes, 'y': latitudes, 'colorscale': 'plasma', 'name': 'Columnar NO2', 'colorbar_title': 'mol/m2'}\n",
    "colourScale = {'zmin': 0, 'zmax': 0.0003}\n",
    "\n",
    "fig = make_subplots(rows = 2, cols = 4, subplot_titles = ['Dec-Jan 2019', 'Jan-Feb 2019', 'Feb-Mar 2019', 'Mar-Apr 2019', 'Dec-Jan 2020', 'Jan-Feb 2020', 'Feb-Mar 2020', 'Mar-Apr 2020'], horizontal_spacing = 0.06, vertical_spacing = 0.085)\n",
    "\n",
    "fig.add_trace(go.Heatmap(z = no2_dec_jan_2019.read(1), **heatMapStyle, **colourScale), row = 1, col = 1)\n",
    "fig.add_trace(go.Heatmap(z = no2_dec_jan_2020.read(1), **heatMapStyle, **colourScale), row = 2, col = 1)\n",
    "\n",
    "fig.add_trace(go.Heatmap(z = no2_jan_feb_2019.read(1), **heatMapStyle, **colourScale), row = 1, col = 2)\n",
    "fig.add_trace(go.Heatmap(z = no2_jan_feb_2020.read(1), **heatMapStyle, **colourScale), row = 2, col = 2)\n",
    "\n",
    "fig.add_trace(go.Heatmap(z = no2_feb_mar_2019.read(1), **heatMapStyle, **colourScale), row = 1, col = 3)\n",
    "fig.add_trace(go.Heatmap(z = no2_feb_mar_2020.read(1), **heatMapStyle, **colourScale), row = 2, col = 3)\n",
    "\n",
    "fig.add_trace(go.Heatmap(z = no2_mar_apr_2019.read(1), **heatMapStyle, **colourScale), row = 1, col = 4)\n",
    "fig.add_trace(go.Heatmap(z = no2_mar_apr_2020.read(1), **heatMapStyle, **colourScale), row = 2, col = 4)\n",
    "\n",
    "for i in range(1, 5):\n",
    "    for j in range(1, 3):\n",
    "        fig.add_trace(majorChineseCityScatter, row = j, col = i)\n",
    "        fig.add_trace(coastLineTraces[1], row = j, col = i)\n",
    "        fig.update_yaxes(range = [minLat, maxLat], tickfont_size = 8, row = j, col = i)\n",
    "        fig.update_xaxes(range = [minLon, maxLon], tickfont_size = 8, row = j, col = i)\n",
    "\n",
    "for i in fig['layout']['annotations']:\n",
    "    i['font'] = {'size': 11}\n",
    "    \n",
    "fig.update_layout(title_text = \"<b>Monthly Averaged Total Columar Nitrogen Dioxide from S5P</b>\", height = 600, showlegend = False, **layoutStyle)\n",
    "fig.show()\n"
   ]
  },
  {
   "cell_type": "markdown",
   "metadata": {},
   "source": [
    "Here are some observations from the plot above:\n",
    "\n",
    "1. We see a strong seasonal variation of NO2 across both years. Indeed, [Figure 4(a)](https://link.springer.com/content/pdf/10.1007/s11430-007-0141-6.pdf) shows that Dec and Jan have higher level of NO2 than that during spring. As explained in section 4.2, this is due to meteorological conditions. \n",
    "2. Comparing Dec-Jan 2019 vs 2020, which were both pre-lockdown periods, it would seem that the NO2 level is lower in 2020 to begin with. This perhaps has something to do with macroeconomical factors, such as the US-China tradewar, that would have impacted the economic activities and thus emissions anyways.\n",
    "3. We see that Feb-Mar 2020 had the minimumm NO2 emission. The NO2 level rose again in Mar-Apr 2020 as some cities in China lift started to lift lockdown restrictions.\n",
    "\n",
    "## A Reduction of Nitrogen Dioxide Emissions Due to Lockdown\n",
    "\n",
    "The reduced level of nitrogen dixoide emission may be attributable to the reduction of fossil fuel based activities, which are the main sources of *primary* NO2. NO2 may also be created secondarily in the atmosphere chemically from the reaction of NO and Ozone. These secondary NO2 may also be reduced as NO and volatile organic compounds (VOCs), which are precursors to Ozone, should also see reduction due to reduced economic and road activities. See [this report](https://uk-air.defra.gov.uk/assets/documents/reports/aqeg/nd-summary.pdf) for summaries of the sources of NO2.\n",
    "\n",
    "## Nitrogen Dioxide Change Breakdown by City\n",
    "\n",
    "We compare the columnar NO2 difference between 2019 and 2020 for major Chinese cities by population. The closest pixel is used for each city. Population and city coordinates are taken from [here](https://simplemaps.com/data/cn-cities)."
   ]
  },
  {
   "cell_type": "code",
   "execution_count": null,
   "metadata": {},
   "outputs": [],
   "source": [
    "import pandas as pd\n",
    "\n",
    "cn = pd.read_csv('data/allChineseCities.csv')\n",
    "cn = cn.nlargest(250, 'population') # get the top cities by population\n",
    "\n",
    "def getIndex(lon, lat):\n",
    "    return no2_feb_mar_2019.index(lon, lat)\n",
    "\n",
    "def getNO2MeasurementsForCity(row):\n",
    "    try:\n",
    "        x, y = getIndex(row['lng'], row['lat'])\n",
    "        row['no2_2019'] = no2_feb_mar_2019.read(1)[x, y]\n",
    "        row['no2_2020'] = no2_feb_mar_2020.read(1)[x, y]\n",
    "    except IndexError: # not within the map!\n",
    "        row['no2_2019'], row['no2_2020'] = np.nan, np.nan\n",
    "    return row\n",
    "\n",
    "cn = cn.apply(getNO2MeasurementsForCity, axis = 1)\n",
    "\n",
    "fig = go.Figure(data = go.Scatter(x = cn['no2_2019'], y = cn['no2_2020'], text = cn['city'], marker_color = '#137CBD', textfont_size = 8, mode = 'markers', textposition = 'middle left'))\n",
    "fig.update_layout(title = '<b>Total Columnar Nitrogen Dioxide</b> for Top Chinese Cities by Population (Hover for City Names)', \n",
    "                  xaxis_title = \"15 Feb - 15 Mar <b>2019</b> Mean\", yaxis_title = \"15 Feb - 15 Mar <b>2020</b> Mean\", \n",
    "                  xaxis_range = [0, 0.00035], yaxis_range = [0, 0.00035], **layoutStyle, height = 400)\n",
    "fig.add_shape(type = \"line\", xref = \"paper\", yref = \"paper\", x0 = 0, y0 = 0, x1 = 1, y1 = 1, line = {'color': '#DB3737', 'width': 2})\n",
    "fig.show()\n"
   ]
  },
  {
   "cell_type": "markdown",
   "metadata": {},
   "source": [
    "# Why Not ECMWF CAMS?\n",
    "\n",
    "At first, we attempted to use ECMWF CAMS for NO2. However, the NO2 field for CAMS over China did not quite capture the variation due to lockdown, probably due to [inaccurately prescribed emission inventory](https://atmosphere.copernicus.eu/european-air-quality-information-support-covid-19-crisis). CAMS may also have difficulties resolving local and city scale features. When comparing with TROPOMI data we also see a systematic underestimation, as noted in [this](https://www.ecmwf.int/sites/default/files/elibrary/2014/9426-tropospheric-chemistry-integrated-forecasting-system-ecmwf.pdf) report: \n",
    "\n",
    "> Winter time tropospheric NO2 over China as retrieved from the GOME-2 instrument was two times higher than the fields modelled by C- IFS, MOZART and the MACC re-analysis.\n",
    "\n",
    "In the plot below, the difference between the Sentinel product and CAMS is compared. For CAMS, we only take the 0006 analysis, which corresponds to approximately 2pm over China (approx the overopass time for Tropomi).\n"
   ]
  },
  {
   "cell_type": "code",
   "execution_count": null,
   "metadata": {},
   "outputs": [],
   "source": [
    "import os\n",
    "import ecmwf\n",
    "import fnmatch\n",
    "from datetime import datetime\n",
    "\n",
    "def getNCFilesRecursively(basePath): # returns list of possible paths\n",
    "    return [os.path.join(dirpath, f)\n",
    "        for dirpath, dirnames, files in os.walk(basePath)\n",
    "        for f in fnmatch.filter(files, '*.nc')]\n",
    "\n",
    "def getNCFilesWithStartingName(basePath, startingName): # returns list of possible paths in (path, year, month)\n",
    "    allNCPathsToCheck = getNCFilesRecursively(basePath)\n",
    "    return [(p, p.split('/')[-1].split('_')[-2], p.split('/')[-1].split('_')[-1].split('.')[0]) for p in allNCPathsToCheck if '_'.join(p.split('/')[-1].split('_')[:-2]) == startingName]\n",
    "\n",
    "allCamsPath = {} # load all ecmwf cams measurements\n",
    "for possiblePath in getNCFilesWithStartingName('data/ecmwf/', 'china'):\n",
    "    print('found: %s'%(str(possiblePath)))\n",
    "    year = possiblePath[1]\n",
    "    month = '{:02d}'.format(int(possiblePath[2]))\n",
    "    allCamsPath[year + month] = possiblePath[0]\n",
    "\n",
    "batchECMWF = ecmwf.batchECMWFMeasurements(allCamsPath) # create caching and querying object for all ecmwf cams nc files found"
   ]
  },
  {
   "cell_type": "code",
   "execution_count": null,
   "metadata": {
    "scrolled": false
   },
   "outputs": [],
   "source": [
    "dec2019 = batchECMWF.getSurfaceObject('201912').getArrays('no2', datetime(2019, 12, 15), datetime(2019, 12, 31), steps = ['06'])\n",
    "jan2020 = batchECMWF.getSurfaceObject('202001').getArrays('no2', datetime(2020, 1, 1), datetime(2020, 1, 15), steps = ['06'])\n",
    "ecmwf_feb_mar_2020_mean_flat = np.nanmean(np.concatenate([jan2020, dec2019], axis = 0), axis = 0).flatten() / 0.0460055\n",
    "\n",
    "# now we need to re-sample s5p data onto the same grid as ecmwf\n",
    "lons, lats = np.meshgrid(batchECMWF.getSurfaceObject('201902').getLonList(), batchECMWF.getSurfaceObject('201902').getLatList())\n",
    "sfp_feb_mar_2020_flat = [no2_dec_jan_2020.read(1)[getIndex(lon, lat)] for lon, lat in zip(lons.flatten(), lats.flatten())]\n",
    "\n",
    "fig = go.Figure(data = go.Scatter(x = ecmwf_feb_mar_2020_mean_flat, y = sfp_feb_mar_2020_flat, mode = 'markers', marker_size = 2, marker_color = '#137CBD'))\n",
    "fig.update_layout(title = '<b>Comparing NO2 Average Over Eastern China</b> Dec 2019 to Jan 2020', xaxis_range = [0, 0.001], yaxis_range = [0, 0.001],\n",
    "                  xaxis_title = \"<b>ECMWF CAMS</b> (mol/m2)\", yaxis_title = \"<b>S5P</b> (mol/m2)\", **layoutStyle, height = 400)\n",
    "fig.add_shape(type = \"line\", xref = \"paper\", yref = \"paper\", x0 = 0, y0 = 0, x1 = 1, y1 = 1, line = {'color': '#DB3737', 'width': 2})\n",
    "fig.show()\n"
   ]
  },
  {
   "cell_type": "markdown",
   "metadata": {},
   "source": [
    "As seen, there is a systematic underestimation here by a factor of about 2 to 3. Whilst the columnar ECMWF CAMS value may not be representative, we shall use the its NO2 profile. We will then scale thgis profile to the columnar value measured by TROPOMI. "
   ]
  },
  {
   "cell_type": "markdown",
   "metadata": {},
   "source": [
    "# Aerosol Optical Depths\n",
    "\n",
    "We now turn to aerosols, showing the MCD19A2 V6 product, which is a MODIS Terra and Aqua combined Multi-angle Implementation of Atmospheric Correction (MAIAC) Land Aerosol Optical Depth (AOD) gridded Level 2 product produced daily at 1 km resolution."
   ]
  },
  {
   "cell_type": "code",
   "execution_count": null,
   "metadata": {},
   "outputs": [],
   "source": [
    "heatMapStyle = {'x': longitudes, 'y': latitudes, 'colorscale': 'plasma', 'name': 'AOD 550'}\n",
    "colourScale = {'zmin': 0, 'zmax': 1}\n",
    "\n",
    "fig = make_subplots(rows = 1, cols = 2, subplot_titles = ['15 Feb - 15 Mar 2020', '15 Feb - 15 Mar 2019'], horizontal_spacing = 0.075, vertical_spacing = 0.075)\n",
    "\n",
    "fig.add_trace(go.Heatmap(z = aod550_feb_mar_2020.read(1)*0.001, **heatMapStyle, **colourScale), row = 1, col = 1)\n",
    "fig.add_trace(go.Heatmap(z = aod550_feb_mar_2019.read(1)*0.001, **heatMapStyle, **colourScale), row = 1, col = 2)\n",
    "\n",
    "for i in range(1, 3):\n",
    "    fig.add_trace(majorChineseCityScatter, row = 1, col = i)\n",
    "    fig.add_trace(coastLineTraces[1], row = 1, col = i)\n",
    "    fig.update_yaxes(range = [minLat, maxLat], row = 1, col = i)\n",
    "    fig.update_xaxes(range = [minLon, maxLon], row = 1, col = i)\n",
    "    \n",
    "fig.update_layout(title_text = \"<b>Aerosol Optical Depth at 550nm from MODIS</b>\", height = 600, showlegend = False, **layoutStyle)\n",
    "fig.show()\n"
   ]
  },
  {
   "cell_type": "markdown",
   "metadata": {},
   "source": [
    "As seen, the aerosol optical depth has indeed decreased for most regions. However, we also see regions in the general northwest region wheere the AOD has in fact increased. \n",
    "\n",
    "## Aerosol Optical Depth Change Breakdown by City\n",
    "\n",
    "We now compare the AOD change over some Chinese cities like we did before for nitrogen dioxide. We see that there is a decrease for most cities. However, some cities, such as Beijing and Nanjing, actually saw an increase in AOD. "
   ]
  },
  {
   "cell_type": "code",
   "execution_count": null,
   "metadata": {},
   "outputs": [],
   "source": [
    "def getAODMeasurementsForCity(row):\n",
    "    try:\n",
    "        x, y = getIndex(row['lng'], row['lat'])\n",
    "        row['aod_2019'] = aod550_feb_mar_2019.read(1)[x, y] * 0.001\n",
    "        row['aod_2020'] = aod550_feb_mar_2020.read(1)[x, y] * 0.001\n",
    "    except IndexError: # not within the map!\n",
    "        row['aod_2019'], row['aod_2020'] = np.nan, np.nan\n",
    "    return row\n",
    "\n",
    "cn = cn.apply(getAODMeasurementsForCity, axis = 1)\n",
    "\n",
    "fig = go.Figure(data = go.Scatter(x = cn['aod_2019'], y = cn['aod_2020'], text = cn['city'], marker_color = '#137CBD', textfont_size = 8, mode = 'markers', textposition = 'middle left'))\n",
    "fig.update_layout(title = '<b>Aerosol Optical Depth at 550</b> for Top Chinese Cities by Population (Hover for City Names)', \n",
    "                  xaxis_title = \"15 Feb - 15 Mar <b>2019</b> Mean\", yaxis_title = \"15 Feb - 15 Mar <b>2020</b> Mean\", \n",
    "                  xaxis_range = [0, 1.5], yaxis_range = [0, 1.5], **layoutStyle, height = 400)\n",
    "fig.add_shape(type = \"line\", xref = \"paper\", yref = \"paper\", x0 = 0, y0 = 0, x1 = 1, y1 = 1, line = {'color': '#DB3737', 'width': 2})\n",
    "fig.show()\n"
   ]
  },
  {
   "cell_type": "markdown",
   "metadata": {},
   "source": [
    "# Angström Exponents\n",
    "\n",
    "We also try to give Angström exponent a go and see if there is any difference. The difference is minimal, and the Angsrtöm exponent over China remains consistently high over both periods. This indicates that there is probably no change in the aerosol type between these two periods."
   ]
  },
  {
   "cell_type": "code",
   "execution_count": null,
   "metadata": {},
   "outputs": [],
   "source": [
    "def getAngstromExponent(data_550, data_470):\n",
    "    return -1 * np.log(data_470/data_550)/np.log(470.0/550.0)"
   ]
  },
  {
   "cell_type": "code",
   "execution_count": null,
   "metadata": {},
   "outputs": [],
   "source": [
    "heatMapStyle = {'x': longitudes, 'y': latitudes, 'colorscale': 'plasma', 'name': 'Angström Exponent'}\n",
    "colourScale = {'zmin': 0, 'zmax': 2}\n",
    "\n",
    "fig = make_subplots(rows = 1, cols = 2, subplot_titles = ['15 Feb - 15 Mar 2020', '15 Feb - 15 Mar 2019'], horizontal_spacing = 0.075, vertical_spacing = 0.075)\n",
    "\n",
    "fig.add_trace(go.Heatmap(z = getAngstromExponent(aod550_feb_mar_2020.read(1)*0.001, aod470_feb_mar_2020.read(1)*0.001), **heatMapStyle, **colourScale), row = 1, col = 1)\n",
    "fig.add_trace(go.Heatmap(z = getAngstromExponent(aod550_feb_mar_2019.read(1)*0.001, aod470_feb_mar_2019.read(1)*0.001), **heatMapStyle, **colourScale), row = 1, col = 2)\n",
    "\n",
    "for i in range(1, 3):\n",
    "    fig.add_trace(majorChineseCityScatter, row = 1, col = i)\n",
    "    fig.add_trace(coastLineTraces[1], row = 1, col = i)\n",
    "    fig.update_yaxes(range = [minLat, maxLat], row = 1, col = i)\n",
    "    fig.update_xaxes(range = [minLon, maxLon], row = 1, col = i)\n",
    "    \n",
    "fig.update_layout(title_text = \"<b>Angström Exponent 470-550 from MODIS</b>\", height = 600, showlegend = False, **layoutStyle)\n",
    "fig.show()\n",
    "\n"
   ]
  },
  {
   "cell_type": "markdown",
   "metadata": {},
   "source": [
    "# Percentage Changes in Relevant Atmospheric Species\n",
    "\n",
    "Finally, we show the percentage changes in columnar nitrogen dioxide and aerosol optical depth. "
   ]
  },
  {
   "cell_type": "code",
   "execution_count": null,
   "metadata": {},
   "outputs": [],
   "source": [
    "def getPercentageChange(data, baseLine):\n",
    "    return ((data - baseLine)/baseLine) * 100"
   ]
  },
  {
   "cell_type": "code",
   "execution_count": null,
   "metadata": {},
   "outputs": [],
   "source": [
    "fig = make_subplots(rows = 1, cols = 2, subplot_titles = [\"<b>TC NO2 Feb - Mar 2019 vs 2020</b>\", \"<b>AOD 550 Feb - Mar 2019 vs 2020</b>\"])\n",
    "\n",
    "heatMapStyle = {'x': longitudes, 'y': latitudes, 'colorscale': 'rdbu', 'name': 'Percentage Change', 'colorbar_title': '% Change'}\n",
    "colourScale = {'zmin': -85, 'zmax': 85}\n",
    "fig.add_trace(go.Heatmap(z = getPercentageChange(no2_feb_mar_2020.read(1), no2_feb_mar_2019.read(1)), **heatMapStyle, **colourScale), row = 1, col = 1)\n",
    "fig.add_trace(go.Heatmap(z = getPercentageChange(aod550_feb_mar_2020.read(1), aod550_feb_mar_2019.read(1)), **heatMapStyle, **colourScale), row = 1, col = 2)\n",
    "\n",
    "for i in range(1, 3):\n",
    "    fig.add_trace(majorChineseCityScatter_black, row = 1, col = i)\n",
    "    fig.add_trace(coastLineTraces_black[1], row = 1, col = i)\n",
    "    fig.update_yaxes(range = [minLat, maxLat], row = 1, col = i)\n",
    "    fig.update_xaxes(range = [minLon, maxLon], row = 1, col = i)\n",
    "    \n",
    "fig.update_layout(height = 500, showlegend = False)\n",
    "fig.show()"
   ]
  },
  {
   "cell_type": "markdown",
   "metadata": {},
   "source": [
    "## Preparing Atmospheric Profiles for Radiative Transfer Calculations for Wuhan, China\n",
    "\n",
    "We first look at the gridbox that contains Wuhan, before looking at results for the whole region. This is where the COVID-19 outbreak began, and is where the lockdown was most strictly enforced. As such, we would expect this to be a good city as a case study. \n",
    "\n",
    "First, we inspect the atmospheric profiles, which were obtained at 1 degree by 1 degree resolution for both March 2020 (post-lockdown) and March 2019 (pre-lockdown). Only profiles at step 0600 UTC analysis is downloaded, as that is best aligned with the S5P TROPOMI overpass time locally over China. Taking all these profiles at 0600, we produce the monthly average at the gridbox over Wuhan, China. Levels above 1 mbar are augmented with standard profiles, scaled to the ECMWF CAMS value at 1 mbar."
   ]
  },
  {
   "cell_type": "code",
   "execution_count": null,
   "metadata": {},
   "outputs": [],
   "source": [
    "def loadData(key):\n",
    "    return pd.read_csv(\"profiles/atmosProfile%s.dat\"%(key), sep = \" \", header = None)\n",
    "\n",
    "pure_cams_df_2020 = loadData(\"pure_cams_2020_china_2019_modis_2019_tropomi_1320205300UTC_114.3055_30.5928_compute_urban_0.5918238716725092_0.0_0.028_0.0_1.0_1.0_True_twostrpseudospherical_coarseModeIsFalse\")\n",
    "scaled_cams_df_2020 = loadData(\"scaled_cams_2020_china_2019_modis_2019_tropomi_1320205300UTC_114.3055_30.5928_compute_urban_0.5918238716725092_0.0_0.028_0.0_1.0_1.0_True_twostrpseudospherical_coarseModeIsFalse\")\n",
    "pure_cams_df_2019 = loadData(\"pure_cams_2019_china_2019_modis_2019_tropomi_1320195300UTC_114.3055_30.5928_compute_urban_0.5918233137012293_0.0_0.028_0.0_1.0_1.0_True_twostrpseudospherical_coarseModeIsFalse\")\n",
    "scaled_cams_df_2019 = loadData(\"scaled_cams_2019_china_2019_modis_2019_tropomi_1320195300UTC_114.3055_30.5928_compute_urban_0.5918233137012293_0.0_0.028_0.0_1.0_1.0_True_twostrpseudospherical_coarseModeIsFalse\")"
   ]
  },
  {
   "cell_type": "markdown",
   "metadata": {},
   "source": [
    "## Nitrogen Dioxide Profiles over Wuhan, China\n",
    "\n",
    "The TROPOMI columnar nitrogen dixoide product is in $molm^-2$; ECMWF CAMS gives profiles in $kgkg^{-1}$ of dry air; libRadtran takes number density in $cm^{-3}$. Conversion is done assuming a molar mass of $46.0055gmol^{-2}$ for NO2. Here, we are showing the nitrogen dixoide profiles, before and after scaling the columnar values to the TROPOMI measurements."
   ]
  },
  {
   "cell_type": "code",
   "execution_count": null,
   "metadata": {},
   "outputs": [],
   "source": [
    "mol = 6.02214076 * 10e23\n",
    "\n",
    "fig = go.Figure(data = go.Scatter(x = (pure_cams_df_2020[8])/mol, y = pure_cams_df_2020[0], name = \"CAMS March 2020 Avg\", mode = \"lines\", marker_color = \"#48AFF0\", line_dash = \"dot\"))\n",
    "fig.add_trace(go.Scatter(x = (scaled_cams_df_2020[8])/mol, y = scaled_cams_df_2020[0], name = \"CAMS March 2020 Avg Scaled to TROPOMI\", mode = \"lines\", marker_color = \"#0E5A8A\"))\n",
    "fig.add_trace(go.Scatter(x = (pure_cams_df_2019[8])/mol, y = pure_cams_df_2019[0], name = \"CAMS March 2019 Avg\", mode = \"lines\", marker_color = \"#FF7373\", line_dash = \"dot\"))\n",
    "fig.add_trace(go.Scatter(x = (scaled_cams_df_2019[8])/mol, y = scaled_cams_df_2019[0], name = \"CAMS March 2019 Avg Scaled to TROPOMI\", mode = \"lines\", marker_color = \"#A82A2A\"))\n",
    "fig.update_layout(title = \"<b>Nitrogen Dixoide</b> Profile Over Wuhan, China\", xaxis_title = \"<b>Number Density</b> (mol/cm3)\", yaxis_title = \"<b>Altitude asl</b> (km)\", xaxis_type = \"log\", **layoutStyle)\n",
    "fig.show()"
   ]
  },
  {
   "cell_type": "markdown",
   "metadata": {},
   "source": [
    "## Other Species\n",
    "\n",
    "As a santity check, we also show the CAMS profiles over Wuhan, China for other species that are fed into libRadtran. We take these averaged profiles as is, unlike that of nitrogen dioxide, without scaling to any satellite measurements. Examining these plots, the profiles for most species are similar."
   ]
  },
  {
   "cell_type": "code",
   "execution_count": null,
   "metadata": {},
   "outputs": [],
   "source": [
    "fig = make_subplots(rows = 1, cols = 4, shared_yaxes = True)\n",
    "\n",
    "fig.update_yaxes(title_text = \"<b>Altitude asl</b> (km)\", row = 1, col = 1)\n",
    "\n",
    "def getProfilePlot(fig, xaxis, col, x1, y1, x2, y2, axisType):\n",
    "    fig.add_trace(go.Scatter(x = x1, y = y1, name = \"Mar 2020\", mode = \"lines\", marker_color = \"#48AFF0\", showlegend = False), row = 1, col = col)\n",
    "    fig.add_trace(go.Scatter(x = x2, y = y2, name = \"Mar 2019\", mode = \"lines\", marker_color = \"#A82A2A\", showlegend = False), row = 1, col = col)\n",
    "    fig.update_xaxes(title_text = xaxis, row = 1, col = col, type = axisType, **layoutStyle[\"xaxis\"])\n",
    "    fig.update_yaxes(row = 1, col = col, **layoutStyle[\"yaxis\"])\n",
    "    return fig\n",
    "\n",
    "fig = getProfilePlot(fig, \"<b>Temperature</b> (K)\", 1, scaled_cams_df_2020[2], scaled_cams_df_2020[0], scaled_cams_df_2019[2], scaled_cams_df_2020[0], 'linear')\n",
    "fig = getProfilePlot(fig, \"<b>Ozone</b> (mol/cm3)\", 2, scaled_cams_df_2020[4]/mol, scaled_cams_df_2020[0], scaled_cams_df_2019[4]/mol, scaled_cams_df_2020[0], 'log')\n",
    "fig = getProfilePlot(fig, \"<b>Dry Air</b> (mol/cm3)\", 3, scaled_cams_df_2020[3]/mol, scaled_cams_df_2020[0], scaled_cams_df_2019[3]/mol, scaled_cams_df_2020[0], 'log')\n",
    "fig = getProfilePlot(fig, \"<b>Water Vapour</b> (mol/cm3)\", 4, scaled_cams_df_2020[6]/mol, scaled_cams_df_2020[0], scaled_cams_df_2019[6]/mol, scaled_cams_df_2020[0], 'log')\n",
    "\n",
    "fig['data'][0]['showlegend'], fig['data'][1]['showlegend'] = True, True\n",
    "\n",
    "fig.update_layout(title = \"<b>Averaged ECMWF CAMS Profiles</b> Over Wuhan, China\", **backgroundStyle)\n",
    "fig.show()"
   ]
  },
  {
   "cell_type": "markdown",
   "metadata": {},
   "source": [
    "## Simulated Spectral Direct Normal Irradiance\n",
    "\n",
    "We show the simulated spectral direct normal irradiance based on the averaged species profiles above using libRadtran with our complete SACS + CSF scheme. There is subtle caveat here though. The DNI spectrum simulated based on monthly averaged profile is not the monthly averaged DNI spectrum. This is further discussed [here](https://www.academia.edu/29425709/Improving_modeled_solar_irradiance_historical_time_series_What_is_the_appropriate_monthly_statistic_for_aerosol_optical_depth). However, for now, we shall set aside this problem and call our simulated DNI spectrum based on averaged atmospheric species profile the monthly averaged DNI. "
   ]
  },
  {
   "cell_type": "code",
   "execution_count": null,
   "metadata": {},
   "outputs": [],
   "source": [
    "from ast import literal_eval\n",
    "\n",
    "dni_2019_df = pd.read_csv('simulations/china_2019_modis_2019_tropomi_2019_cams_1551418200.csv')\n",
    "dni_2020_df = pd.read_csv('simulations/china_2020_modis_2020_tropomi_2020_cams_1583040600.csv')\n",
    "\n",
    "wvls = np.array(literal_eval(dni_2019_df['orbit_spectraldni'].iloc[0])[1][::5])\n",
    "dni_2019 = np.array(literal_eval(dni_2019_df['orbit_spectraldni'].iloc[0])[0][::5])\n",
    "dni_2020 = np.array(literal_eval(dni_2020_df['orbit_spectraldni'].iloc[0])[0][::5])\n",
    "\n",
    "fig = make_subplots(rows = 2, cols = 2, specs = [[{}, {\"rowspan\": 2}], [{}, None]], column_widths = [0.7, 0.3], shared_xaxes = True, subplot_titles = [' ', 'Broadband', 'Difference Against March 2019 as Baseline'])\n",
    "\n",
    "fig.add_trace(go.Scatter(x = wvls, y = dni_2019, name = 'March 2019', mode = 'lines', marker_color = '#F55656'), row = 1, col = 1)\n",
    "fig.add_trace(go.Scatter(x = wvls, y = dni_2020, name = 'March 2020', mode = 'lines', marker_color = '#2B95D6'), row = 1, col = 1)\n",
    "fig.update_xaxes(row = 1, col = 1, **layoutStyle['xaxis'])\n",
    "fig.update_yaxes(title_text = r'$mWm^{-2}nm^{-1}$', row = 1, col = 1, **layoutStyle['yaxis'])\n",
    "\n",
    "fig.add_trace(go.Scatter(x = wvls, y = dni_2019 - dni_2019, name = 'March 2019', mode = 'lines', marker_color = '#F55656', showlegend = False), row = 2, col = 1)\n",
    "fig.add_trace(go.Scatter(x = wvls, y = dni_2020 - dni_2019, name = 'March 2020', mode = 'lines', marker_color = '#2B95D6', showlegend = False), row = 2, col = 1)\n",
    "fig.update_xaxes(range = [300, 2000], title_text = 'Wavelength (nm)', row = 2, col = 1, **layoutStyle['xaxis'])\n",
    "fig.update_yaxes(title_text = r'$mWm^{-2}nm^{-1}$', row = 2, col = 1, **layoutStyle['yaxis'])\n",
    "\n",
    "fig.add_trace(go.Bar(x = ['Mar 2019', 'Mar 2020'], y = [dni_2019_df[u'orbit_dniBB'].iloc[0], dni_2020_df[u'orbit_dniBB'].iloc[0]], \n",
    "                     text = ['%.2f'%(dni_2019_df[u'orbit_dniBB'].iloc[0]), '%.2f'%(dni_2020_df[u'orbit_dniBB'].iloc[0])], textposition = 'auto',\n",
    "                     marker_color = ['#F55656', '#2B95D6'], width = [0.6, 0.6], showlegend = False), row = 1, col = 2)\n",
    "fig.update_yaxes(title_text = r'$mWm^{-2}$', row = 1, col = 2, **layoutStyle['yaxis'])\n",
    "\n",
    "fig.update_layout(title = '<b>Simulated Spectral Direct Normal Irradiance</b> Over Wuhan, China', legend_orientation = \"h\", legend = {'x': 0, 'y': 1.1}, **backgroundStyle)\n",
    "fig.show()"
   ]
  },
  {
   "cell_type": "markdown",
   "metadata": {},
   "source": [
    "The broadband DNI available in March 2020 has increased by 12% compared to March 2019. This is expected as both the nitrogen dioxide absorption and aerosol extinction have reduced. Also note that most of the gain is spectrally along the shortwave, meaning there is a blue-shift in the spectrum.\n",
    "\n",
    "We may in fact breakdown the contribution to the changes due to nitrogen dioxide and aerosols seperately. This is done by swaping out the profiles from those of 2019 to those of 2020 one by one, holding all other profiles at March 2019 level."
   ]
  },
  {
   "cell_type": "code",
   "execution_count": null,
   "metadata": {},
   "outputs": [],
   "source": [
    "from scipy.integrate import simps\n",
    "\n",
    "fig = make_subplots(rows = 1, cols = 2, column_widths = [0.7, 0.3])\n",
    "\n",
    "df_2019_modis_2020_tropomi_2019_cams = pd.read_csv(\"simulations/china_2019_modis_2020_tropomi_2019_cams_1551418200.csv\")\n",
    "df_2020_modis_2020_tropomi_2019_cams = pd.read_csv(\"simulations/china_2020_modis_2020_tropomi_2019_cams_1551418200.csv\")\n",
    "df_2020_modis_2019_tropomi_2019_cams = pd.read_csv(\"simulations/china_2020_modis_2019_tropomi_2019_cams_1551418200.csv\")\n",
    "\n",
    "dni_2019_modis_2020_tropomi_2019_cams = np.array(literal_eval(df_2019_modis_2020_tropomi_2019_cams[\"orbit_spectraldni\"].iloc[0])[0][::5])\n",
    "dni_2020_modis_2020_tropomi_2019_cams = np.array(literal_eval(df_2020_modis_2020_tropomi_2019_cams[\"orbit_spectraldni\"].iloc[0])[0][::5])\n",
    "dni_2020_modis_2019_tropomi_2019_cams = np.array(literal_eval(df_2020_modis_2019_tropomi_2019_cams[\"orbit_spectraldni\"].iloc[0])[0][::5])\n",
    "\n",
    "fig.add_trace(go.Scatter(x = wvls, y = dni_2019 - dni_2019, name = \"Base Line\", mode = \"lines\", marker_color = \"#F55656\", showlegend = False), row = 1, col = 1)\n",
    "fig.add_trace(go.Scatter(x = wvls, y = dni_2019_modis_2020_tropomi_2019_cams - dni_2019, name = \"NO2 Contribution\", mode = \"lines\", marker_color = \"#D9822B\", fill = \"tonexty\"), row = 1, col = 1)\n",
    "fig.add_trace(go.Scatter(x = wvls, y = dni_2020_modis_2020_tropomi_2019_cams - dni_2019, name = \"Aerosols Contribution\", mode = \"lines\", marker_color = \"#0F9960\", fill = \"tonexty\"), row = 1, col = 1)\n",
    "fig.add_trace(go.Scatter(x = wvls, y = dni_2020 - dni_2019, name = \"Residual Contributions\", mode = \"lines\", marker_color = \"#2B95D6\", fill = \"tonexty\"), row = 1, col = 1)\n",
    "fig.add_trace(go.Scatter(x = wvls, y = dni_2020 - dni_2019, name = \"March 2020 - March 2019\", mode = \"lines\", marker_color = \"#2B95D6\"), row = 1, col = 1)\n",
    "fig.update_xaxes(range = [300, 2000], title_text = \"Wavelength (nm)\", row = 1, col = 1, **layoutStyle[\"xaxis\"])\n",
    "fig.update_yaxes(title_text=r\"$mWm^{-2}nm^{-1}$\", row = 1, col = 1, **layoutStyle[\"yaxis\"])\n",
    "\n",
    "broadbandContributions = [\n",
    "    simps(dni_2019_modis_2020_tropomi_2019_cams - dni_2019, wvls/1000),\n",
    "    simps(dni_2020_modis_2020_tropomi_2019_cams - dni_2019_modis_2020_tropomi_2019_cams, wvls/1000),\n",
    "    simps(dni_2020 - dni_2020_modis_2020_tropomi_2019_cams, wvls/1000)\n",
    "]\n",
    "\n",
    "fig.add_trace(go.Bar(x = [\"NO2 Contributions\", \"Aerosols Contributions\", \"Residual Contributions\"], y = broadbandContributions,\n",
    "        text = [\"%.2f\" % (t) for t in broadbandContributions], textposition = \"auto\",\n",
    "        marker_color = [\"#D9822B\", \"#0F9960\", \"#2B95D6\"], width = [0.6, 0.6, 0.6], showlegend = False), row = 1, col = 2)\n",
    "fig.update_yaxes(title_text = r\"$Wm^{-2}$\", row = 1, col = 2, **layoutStyle[\"yaxis\"])\n",
    "\n",
    "fig.update_layout(title = \"<b>Simulated Spectral Direct Normal Irradiance</b> Over Wuhan, China\", legend_orientation = \"h\", legend = {\"x\": 0, \"y\": 1.1}, **backgroundStyle)\n",
    "fig.show()"
   ]
  },
  {
   "cell_type": "markdown",
   "metadata": {},
   "source": [
    "Aerosol has the biggest controbution to the increase in DNI. Nitrogen dioxide contributes about $5.7Wm^{-2}$ of DNI. The residual, probably due to an increase in water vapour in 2020 base on CAMS, leads to a reduction of DNI in longer wavelengths. While this would seem to suggest that the residual and NO2 contributions would cancel out each other, this is not the case for the spectrally sensitive solar cells, as the reduction and increase take place along different parts of the spectrum. In fact, the cell is current-limited by the top InGaP layer over the most of China. As such, changes along the longer wavelength regime would not have a material impact on cell power output.\n",
    "\n",
    "We can then pass these spectra into SolCore for a triple junction cell and inspect the power output per squared metre of solar panel. Immediately, we note that the spectrum has shifted bluer as a result of the COVID-19 lockdown. In fact, such shift puts it closer to what the standard AM1.5 direct spectrum, which is what the cell currently under simulation tuned against. As such, the efficiency of the cell has increased. The following table compares the cell efficiency, which is the ratio of the power output in $Wm^{-2}$ to the incident DNI in $Wm^{-2}$. In fact, there is a 3.245% increase in efficieny, which represnets a (3.2/27.9) x 100 = 11.5% increase!\n",
    "\n",
    "| *                      | March 2019 | March 2020 | $\\Delta$ |\n",
    "|------------------------|------------|------------|----------|\n",
    "| Cell Efficiency $\\eta$ | 27.9102%   | 31.1552%   | 3.245%   |\n",
    "\n"
   ]
  },
  {
   "cell_type": "code",
   "execution_count": null,
   "metadata": {},
   "outputs": [],
   "source": [
    "fig = make_subplots(rows = 1, cols = 3, column_widths = [0.3, 0.65, 0.05], subplot_titles = [\"\", \"Contribution BreakDown\"])\n",
    "\n",
    "pmax = [dni_2019_df[u\"pmax_orbit\"].iloc[0]/1000, dni_2020_df[u\"pmax_orbit\"].iloc[0]/1000]\n",
    "fig.add_trace(go.Bar(\n",
    "        x = [\"March 2019\", \"March 2020\"], y = pmax, text = [\"%.2f\" % (t) for t in pmax],\n",
    "        textposition=\"auto\", marker_color = [\"#F55656\", \"#2B95D6\"], width = [0.6, 0.6], showlegend = False), row = 1, col = 1)\n",
    "fig.update_yaxes(title_text=r\"$Wm^{-2}$\", row=1, col=1, **layoutStyle[\"yaxis\"])\n",
    "\n",
    "totalContributions = [\n",
    "    dni_2019_df[u\"efficiency_orbit\"].iloc[0] * dni_2020_df[u\"orbit_dniBB\"].iloc[0] - dni_2019_df[u\"efficiency_orbit\"].iloc[0] * dni_2019_df[u\"orbit_dniBB\"].iloc[0], \n",
    "    dni_2020_df[u\"orbit_dniBB\"].iloc[0] * (dni_2020_df[u\"efficiency_orbit\"].iloc[0] - dni_2019_df[u\"efficiency_orbit\"].iloc[0])\n",
    "]\n",
    "\n",
    "eta_2019 = dni_2019_df[u\"efficiency_orbit\"].iloc[0]\n",
    "\n",
    "no2_bbCon = broadbandContributions[0] * eta_2019\n",
    "aerosol_bbCon = broadbandContributions[1] * eta_2019\n",
    "residual_bbCon = totalContributions[0] - no2_bbCon - aerosol_bbCon\n",
    "\n",
    "baseline = dni_2019_df[u\"pmax_orbit\"][0] / 1000\n",
    "no2_spCon = df_2019_modis_2020_tropomi_2019_cams[u\"efficiency_orbit\"][0] * df_2019_modis_2020_tropomi_2019_cams[u\"orbit_dniBB\"][0] - baseline\n",
    "aerosol_spCon = df_2020_modis_2019_tropomi_2019_cams[u\"efficiency_orbit\"][0] * df_2019_modis_2020_tropomi_2019_cams[u\"orbit_dniBB\"][0] - baseline\n",
    "residual_spCon = totalContributions[1] - no2_spCon - aerosol_spCon\n",
    "\n",
    "contributionsBreakdown = [\n",
    "    no2_bbCon,\n",
    "    aerosol_bbCon,\n",
    "    residual_bbCon,\n",
    "    no2_spCon,\n",
    "    aerosol_spCon,\n",
    "    residual_spCon,\n",
    "    dni_2020_df[u\"pmax_orbit\"].iloc[0] / 1000 - baseline,\n",
    "]\n",
    "\n",
    "fig.add_trace(go.Waterfall(orientation = \"v\",\n",
    "        measure=[\"relative\", \"relative\", \"relative\", \"relative\", \"relative\", \"relative\", \"total\"], y = contributionsBreakdown,\n",
    "        x = [\"<b>NO2</b> Broadband Contribution\", \"<b>Aerosol</b> Broadband Contribution\", \"Residual Broadband Contribution\", \"<b>NO2</b> Spectral Contribution\", \"<b>Aerosol</b> Spectral Contribution\", \"Residual Spectral Contribution\", \"<b>Total Difference</b>\"],\n",
    "        textposition = \"outside\", text = [\"%.2f\" % (t) for t in contributionsBreakdown],\n",
    "        connector = {\"line\": {\"color\": \"rgb(63, 63, 63)\"}, \"mode\": \"spanning\"}, increasing = {\"marker\": {\"color\": \"#F2B824\"}},\n",
    "        decreasing = {\"marker\": {\"color\": \"#F29D49\"}}, totals = {\"marker\": {\"color\": \"#29A634\"}}), row = 1, col = 2)\n",
    "fig.update_yaxes(title_text=r\"$Wm^{-2}$\", row = 1, col = 2, range = [0, 42], **layoutStyle[\"yaxis\"])\n",
    "\n",
    "fig.add_trace(go.Bar(text = [\"Total Broadband (%.1f)\" % (totalContributions[0])], textposition = \"auto\", x = [\"\"], y = [totalContributions[0]], marker_color=\"#1D7324\"), row = 1, col = 3)\n",
    "fig.add_trace(go.Bar(text = [\"Total Spectral (%.1f)\" % (totalContributions[1])], textposition = \"auto\", x = [\"\"], y = [totalContributions[1]], marker_color = \"#1D7324\"), row = 1, col = 3)\n",
    "fig.update_yaxes(row = 1, col = 3, range = [0, 42], showticklabels = False, **layoutStyle[\"yaxis\"])\n",
    "fig.update_layout(barmode=\"stack\")\n",
    "\n",
    "fig.update_layout(title = \"<b>Estimated Maximum Power Point</b> for 3J InGaP/InGaAs/Ge CPV Over Wuhan, China\", showlegend = False, **backgroundStyle)\n",
    "fig.show()"
   ]
  },
  {
   "cell_type": "markdown",
   "metadata": {},
   "source": [
    "This spectral effect is actually quite remarkable. As seen previously, the broadband DNI only increased by 12%, but the power ouput of the cell increased by 24%, from $157.38Wm{-2}$ to $196.83Wm{-2}$. This increase of $39.45Wm{-2}$ can be broken down into *broadband contribution*, which is the increase of power ouput directly related to the increase in the incident beam intensity, and the *spectral contribution*, which is the increase of power output due to a change in the spectral shape. These two effects each contribute about half to the total increase, with the spectral effect marginally more significant. Each of these contributions can then be further broken down into nitrogen dixoide, aerosol and residual contributions. This is shown in the waterfall chart in the plot above. \n",
    "\n",
    "## Now Repeat for All Over China!\n",
    "\n",
    "We now repeat the above simulations for the region cover east China. We shall not seperate out the contributions from various atmospheric species. Instead, we will simply compare the power ouput between March 2019 and March 2020."
   ]
  },
  {
   "cell_type": "code",
   "execution_count": null,
   "metadata": {},
   "outputs": [],
   "source": [
    "china_2019_pmax_orbit = np.loadtxt('simulations/china_2019_pmax_orbit') / 1000\n",
    "china_2020_pmax_orbit = np.loadtxt('simulations/china_2020_pmax_orbit') / 1000\n",
    "china_2019_efficiency_orbit_ref = np.loadtxt('simulations/china_2019_efficiency_orbit_ref') * 100\n",
    "china_2020_efficiency_orbit_ref = np.loadtxt('simulations/china_2020_efficiency_orbit_ref') * 100\n",
    "\n",
    "_longitudes, _latitudes = np.arange(98, 121, 1), np.arange(21, 44, 1)"
   ]
  },
  {
   "cell_type": "code",
   "execution_count": null,
   "metadata": {},
   "outputs": [],
   "source": [
    "heatMapStyle = {'x': _longitudes, 'y': _latitudes, 'name': 'Maximum Power Point', 'colorbar_title': 'W/m2'}\n",
    "colourScale = {'zmin': 0, 'zmax': 350}\n",
    "\n",
    "fig = make_subplots(rows = 1, cols = 3, subplot_titles = ['Feb-Mar 2020', 'Feb-Mar 2019', 'Difference'], horizontal_spacing = 0.075, vertical_spacing = 0.075)\n",
    "\n",
    "fig.add_trace(go.Heatmap(z = china_2020_pmax_orbit, colorscale = 'plasma', colorbar = {'len': 0.6, 'y': 0.2}, **heatMapStyle, **colourScale), row = 1, col = 1)\n",
    "fig.add_trace(go.Heatmap(z = china_2019_pmax_orbit, colorscale = 'plasma', colorbar = {'len': 0.6, 'y': 0.2}, **heatMapStyle, **colourScale), row = 1, col = 2)\n",
    "fig.add_trace(go.Heatmap(z = china_2020_pmax_orbit - china_2019_pmax_orbit, colorscale = 'rdbu', colorbar = {'len': 0.6, 'y': 0.8}, **heatMapStyle, **{'zmin': -160, 'zmax': 160}), row = 1, col = 3)\n",
    "\n",
    "for i in range(1, 4):\n",
    "    fig.add_trace(majorChineseCityScatter_black, row = 1, col = i)\n",
    "    fig.add_trace(coastLineTraces_black[1], row = 1, col = i)\n",
    "    fig.update_yaxes(range = [min(_latitudes), max(_latitudes)], row = 1, col = i)\n",
    "    fig.update_xaxes(range = [min(_longitudes), max(_longitudes)], row = 1, col = i)\n",
    "    \n",
    "fig.update_layout(title_text = \"<b>Estimated Maximum Power Point</b>\", height = 450, showlegend = False, **layoutStyle)\n",
    "fig.show()\n"
   ]
  },
  {
   "cell_type": "markdown",
   "metadata": {},
   "source": [
    "The estimated power output varies. Over major cities like Wuhan and Beijing, we see a substantial increase in the power estimation. However, regions such as the southwest sees quite a substnatial decrease. This is probably attributable to the increase in AOD in March 2020 for certain parts of the country."
   ]
  },
  {
   "cell_type": "code",
   "execution_count": null,
   "metadata": {},
   "outputs": [],
   "source": [
    "heatMapStyle = {'x': _longitudes, 'y': _latitudes, 'name': 'Cell Efficiency', 'colorbar_title': '%'}\n",
    "colourScale = {'zmin': 25, 'zmax': 35}\n",
    "\n",
    "fig = make_subplots(rows = 1, cols = 3, subplot_titles = ['Feb-Mar 2020', 'Feb-Mar 2019', 'Difference'], horizontal_spacing = 0.075, vertical_spacing = 0.075)\n",
    "\n",
    "fig.add_trace(go.Heatmap(z = china_2020_efficiency_orbit_ref, colorscale = 'plasma', colorbar = {'len': 0.6, 'y': 0.2}, **heatMapStyle, **colourScale), row = 1, col = 1)\n",
    "fig.add_trace(go.Heatmap(z = china_2019_efficiency_orbit_ref, colorscale = 'plasma', colorbar = {'len': 0.6, 'y': 0.2}, **heatMapStyle, **colourScale), row = 1, col = 2)\n",
    "fig.add_trace(go.Heatmap(z = china_2020_efficiency_orbit_ref - china_2019_efficiency_orbit_ref, colorscale = 'rdbu', colorbar = {'len': 0.6, 'y': 0.8}, **heatMapStyle, **{'zmin': -10, 'zmax': 10}), row = 1, col = 3)\n",
    "\n",
    "for i in range(1, 4):\n",
    "    fig.add_trace(majorChineseCityScatter_black, row = 1, col = i)\n",
    "    fig.add_trace(coastLineTraces_black[1], row = 1, col = i)\n",
    "    fig.update_yaxes(range = [min(_latitudes), max(_latitudes)], row = 1, col = i)\n",
    "    fig.update_xaxes(range = [min(_longitudes), max(_longitudes)], row = 1, col = i)\n",
    "    \n",
    "fig.update_layout(title_text = \"<b>Estimated Cell Efficiency</b>\", height = 450, showlegend = False, **layoutStyle)\n",
    "fig.show()\n"
   ]
  },
  {
   "cell_type": "markdown",
   "metadata": {},
   "source": [
    "The efficiency of the cell is a proxy for the spectral effect. Just like the power output, we see some geographical variation here. Over major cities, we see an enhancement of cell efficiency up to 10%. Over the southwest, we see a degradation of up 10%."
   ]
  },
  {
   "cell_type": "code",
   "execution_count": null,
   "metadata": {},
   "outputs": [],
   "source": []
  }
 ],
 "metadata": {
  "kernelspec": {
   "display_name": "Python 3",
   "language": "python",
   "name": "python3"
  },
  "language_info": {
   "codemirror_mode": {
    "name": "ipython",
    "version": 3
   },
   "file_extension": ".py",
   "mimetype": "text/x-python",
   "name": "python",
   "nbconvert_exporter": "python",
   "pygments_lexer": "ipython3",
   "version": "3.7.6"
  }
 },
 "nbformat": 4,
 "nbformat_minor": 4
}
